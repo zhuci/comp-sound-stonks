{
 "cells": [
  {
   "cell_type": "code",
   "execution_count": 6,
   "metadata": {},
   "outputs": [],
   "source": [
    "import pandas as pd \n",
    "import numpy as np \n",
    "import requests\n",
    "import matplotlib.pyplot as plt"
   ]
  },
  {
   "cell_type": "code",
   "execution_count": 26,
   "metadata": {},
   "outputs": [],
   "source": [
    "import pickle"
   ]
  },
  {
   "cell_type": "code",
   "execution_count": 7,
   "metadata": {},
   "outputs": [],
   "source": [
    "from dotenv import load_dotenv\n",
    "import os\n",
    "load_dotenv()\n",
    "\n",
    "API_KEY=os.getenv(\"STONK_API_KEY\")"
   ]
  },
  {
   "cell_type": "code",
   "execution_count": 17,
   "metadata": {},
   "outputs": [],
   "source": [
    "dates = []\n",
    "for year in range(2000, 2024):\n",
    "  for month in range(1, 13):\n",
    "    dates.append (str(year) + \"-\" + str(month).zfill(2))"
   ]
  },
  {
   "cell_type": "code",
   "execution_count": 124,
   "metadata": {},
   "outputs": [
    {
     "name": "stdout",
     "output_type": "stream",
     "text": [
      "Got 2023-06\n",
      "{'1. Information': 'Intraday (15min) open, high, low, close prices and volume', '2. Symbol': 'SPY', '3. Last Refreshed': '2023-06-30 20:00:00', '4. Interval': '15min', '5. Output Size': 'Full size', '6. Time Zone': 'US/Eastern'}\n",
      "Got 2023-07\n",
      "{'1. Information': 'Intraday (15min) open, high, low, close prices and volume', '2. Symbol': 'SPY', '3. Last Refreshed': '2023-07-31 20:00:00', '4. Interval': '15min', '5. Output Size': 'Full size', '6. Time Zone': 'US/Eastern'}\n",
      "Got 2023-08\n",
      "{'1. Information': 'Intraday (15min) open, high, low, close prices and volume', '2. Symbol': 'SPY', '3. Last Refreshed': '2023-08-31 20:00:00', '4. Interval': '15min', '5. Output Size': 'Full size', '6. Time Zone': 'US/Eastern'}\n",
      "Got 2023-09\n",
      "{'1. Information': 'Intraday (15min) open, high, low, close prices and volume', '2. Symbol': 'SPY', '3. Last Refreshed': '2023-09-29 20:00:00', '4. Interval': '15min', '5. Output Size': 'Full size', '6. Time Zone': 'US/Eastern'}\n",
      "Got 2023-10\n",
      "{'1. Information': 'Intraday (15min) open, high, low, close prices and volume', '2. Symbol': 'SPY', '3. Last Refreshed': '2023-10-31 20:00:00', '4. Interval': '15min', '5. Output Size': 'Full size', '6. Time Zone': 'US/Eastern'}\n",
      "Got 2023-11\n",
      "{'1. Information': 'Intraday (15min) open, high, low, close prices and volume', '2. Symbol': 'SPY', '3. Last Refreshed': '2023-11-30 20:00:00', '4. Interval': '15min', '5. Output Size': 'Full size', '6. Time Zone': 'US/Eastern'}\n",
      "Got 2023-12\n",
      "{'1. Information': 'Intraday (15min) open, high, low, close prices and volume', '2. Symbol': 'SPY', '3. Last Refreshed': '2023-12-05 13:45:00', '4. Interval': '15min', '5. Output Size': 'Full size', '6. Time Zone': 'US/Eastern'}\n"
     ]
    }
   ],
   "source": [
    "i = len(all_loaded_data)\n",
    "all_data = []\n",
    "interval = \"15min\"\n",
    "symbol = \"SPY\"\n",
    "\n",
    "while i < len(dates):\n",
    "    date = dates[i]\n",
    "    res = requests.get(f\"https://www.alphavantage.co/query?function=TIME_SERIES_INTRADAY&symbol={symbol}&month={date}&interval={interval}&apikey={API_KEY}&outputsize=full\")\n",
    "    data = res.json()\n",
    "    if \"Information\" in data or \"Note\" in data or \"Meta Data\" not in data:\n",
    "      #  got rate limited lmfao\n",
    "      print(data)\n",
    "    else:\n",
    "      print(f\"Got {date}\")\n",
    "      print(data[\"Meta Data\"])\n",
    "      all_data.append(data)\n",
    "      i += 1"
   ]
  },
  {
   "cell_type": "code",
   "execution_count": 127,
   "metadata": {},
   "outputs": [],
   "source": [
    "f = \"data\" + str(pickle_num) + \".pickle\"\n",
    "pickle.dump(all_data, open(f, \"wb\"))\n",
    "pickle_num += 1"
   ]
  },
  {
   "cell_type": "code",
   "execution_count": 128,
   "metadata": {},
   "outputs": [
    {
     "data": {
      "text/plain": [
       "288"
      ]
     },
     "execution_count": 128,
     "metadata": {},
     "output_type": "execute_result"
    }
   ],
   "source": [
    "all_loaded_data = []\n",
    "for i in range(1, pickle_num):\n",
    "  f = \"data\" + str(i) + \".pickle\"\n",
    "  if i == 1:\n",
    "    f = \"data.pickle\"\n",
    "  all_loaded_data += pickle.load(open(f, \"rb\"))\n",
    "\n",
    "len(all_loaded_data)"
   ]
  }
 ],
 "metadata": {
  "kernelspec": {
   "display_name": "Python 3",
   "language": "python",
   "name": "python3"
  },
  "language_info": {
   "codemirror_mode": {
    "name": "ipython",
    "version": 3
   },
   "file_extension": ".py",
   "mimetype": "text/x-python",
   "name": "python",
   "nbconvert_exporter": "python",
   "pygments_lexer": "ipython3",
   "version": "3.11.5"
  }
 },
 "nbformat": 4,
 "nbformat_minor": 2
}
